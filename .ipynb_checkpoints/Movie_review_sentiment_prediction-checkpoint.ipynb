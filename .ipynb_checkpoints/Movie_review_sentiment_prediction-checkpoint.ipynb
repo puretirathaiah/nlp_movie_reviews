{
 "cells": [
  {
   "cell_type": "markdown",
   "metadata": {},
   "source": [
    "Objectives:\n",
    "- Using a bag-of-words model for movie review sentiment cassification\n",
    "\n",
    "Bag-of-words model:\n",
    "- It is a way of extracting features from text\n",
    "- Each document is converted into a vector representation\n",
    "- The larger the vocabulary the larger the vector size, hence smaller vocabulory is preferable.\n"
   ]
  },
  {
   "cell_type": "markdown",
   "metadata": {},
   "source": [
    "- Split the data into train and test datasets\n",
    "- 90% train, and 10% test data\n",
    "- From the data of 2000 instances, last 100 positive and 100 negative are set for test dataset"
   ]
  },
  {
   "cell_type": "markdown",
   "metadata": {},
   "source": [
    "### Extract the vocabulory from all the reviews and pool them into a single vector"
   ]
  },
  {
   "cell_type": "code",
   "execution_count": 1,
   "metadata": {},
   "outputs": [],
   "source": [
    "from os import listdir\n",
    "import re\n",
    "import string\n",
    "import numpy as np\n",
    "from nltk.corpus import stopwords\n",
    "from collections import Counter\n",
    "from keras.preprocessing.text import Tokenizer\n",
    "from keras.utils.vis_utils import plot_model\n",
    "from keras.models import Sequential\n",
    "from keras.layers import Dense\n",
    "from pandas import DataFrame\n",
    "\n",
    "\n",
    "# load the text from a file\n",
    "def load_text_file(filename):\n",
    "    with open(filename, 'r') as file:\n",
    "        text = file.read()\n",
    "    return text\n",
    "\n",
    "def load_text_file_dir(dirname):\n",
    "    for filename in listdir(dirname):\n",
    "        #print(filename)\n",
    "        if not filename.endswith(\".txt\"):\n",
    "            next\n",
    "        text = load_text_file(dirname+'//'+filename)\n",
    "        #print(text)\n",
    "        \n",
    "def clean_text(text):\n",
    "    \n",
    "    # split into words by white space\n",
    "    words = text.split()\n",
    "    \n",
    "    # prepare regex for char filtering\n",
    "    re_punc = re.compile('[%s]' % re.escape(string.punctuation))\n",
    "\n",
    "    # remove punctuation from each word\n",
    "    words = [re_punc.sub('', word) for word in words]\n",
    "\n",
    "    # remove remaining words that are not alphabetic\n",
    "    words = [word for word in words if word.isalpha()]\n",
    "\n",
    "    # filter out stop words\n",
    "    stop_words = set(stopwords.words('english'))\n",
    "    words = [w for w in words if not w in stop_words]\n",
    "    \n",
    "    # filter out short words\n",
    "    words = [word for word in words if len(word) > 1]\n",
    "    return words\n",
    "\n",
    "def add_file_to_vocab_dict(filename, vdict):\n",
    "    text = load_text_file(filename)\n",
    "    words = clean_text(text)\n",
    "    vdict.update(words)\n",
    "\n",
    "# do not process the data from test files that are started with 'cv9'\n",
    "def collect_vocab_from_all_files(dirname, vdict):\n",
    "    for filename in listdir(dirname):\n",
    "        if not filename.startswith(\"cv9\"):\n",
    "            add_file_to_vocab_dict(dirname+'\\\\'+filename, vdict)\n",
    "\n",
    "def trim_vocab(vdict, min_occurance=5):\n",
    "    words = [w for w,c in vdict.items() if c >= min_occurance]\n",
    "    return words\n",
    "\n",
    "def save_vocab_list(dirname, filename, vocab):\n",
    "    # save vocab list into a file\n",
    "    total_vocab = '\\n'.join(vocab)\n",
    "    with open(dirname+'\\\\'+filename, 'w') as file:\n",
    "        file.write(total_vocab)\n"
   ]
  },
  {
   "cell_type": "code",
   "execution_count": 2,
   "metadata": {},
   "outputs": [
    {
     "name": "stdout",
     "output_type": "stream",
     "text": [
      "19604\n",
      "['plot', 'two', 'teen', 'couples', 'go', 'church', 'party', 'drink', 'drive', 'get', 'accident', 'one', 'guys', 'dies', 'girlfriend', 'continues', 'see', 'life', 'nightmares', 'whats', 'deal', 'watch', 'movie', 'sorta', 'find', 'critique', 'mindfuck', 'generation', 'touches', 'cool', 'idea', 'presents', 'bad', 'package', 'makes', 'review', 'even', 'harder', 'write', 'since', 'generally', 'applaud', 'films', 'attempt', 'break', 'mold', 'mess', 'head', 'lost', 'highway', 'memento', 'good', 'ways', 'making', 'types', 'folks', 'didnt', 'correctly', 'seem', 'taken', 'pretty', 'neat', 'concept', 'executed', 'terribly', 'problems', 'well', 'main', 'problem', 'simply', 'jumbled', 'starts', 'normal', 'fantasy', 'world', 'audience', 'member', 'going', 'dreams', 'characters', 'coming', 'back', 'dead', 'others', 'look', 'like', 'strange', 'apparitions', 'disappearances', 'chase', 'scenes', 'tons', 'weird', 'things', 'happen', 'explained', 'personally', 'dont', 'mind', 'trying']\n"
     ]
    }
   ],
   "source": [
    "vdict = Counter()\n",
    "dirname1 = r'C:\\Users\\Pureti\\Documents\\PythonDB\\Machine Learning\\nlp\\movie reviews data\\movie_reviews\\txt_data\\neg'\n",
    "dirname2 = r'C:\\Users\\Pureti\\Documents\\PythonDB\\Machine Learning\\nlp\\movie reviews data\\movie_reviews\\txt_data\\pos'\n",
    "\n",
    "dirname3 = r'C:\\Users\\Pureti\\Documents\\PythonDB\\Machine Learning\\nlp\\movie reviews data\\movie_reviews\\txt_data'\n",
    "\n",
    "collect_vocab_from_all_files(dirname1, vdict)\n",
    "collect_vocab_from_all_files(dirname2, vdict)\n",
    "vocab = trim_vocab(vdict, min_occurance=3)\n",
    "\n",
    "save_vocab_list(dirname3, 'vocab_list_bow.txt', vocab)\n",
    "print(len(vocab))\n",
    "print(vocab[:100])"
   ]
  },
  {
   "cell_type": "markdown",
   "metadata": {},
   "source": [
    "### A bag-of-words model\n",
    "- A bag-of-words model to extract features from text so the text input can be used in machine learning.\n",
    "- Each document can be converted into a vector representation.\n",
    "- The length of the vector depends on the number of words in the vocabulory."
   ]
  },
  {
   "cell_type": "markdown",
   "metadata": {},
   "source": [
    "#### Load the file, clean and return the line of tokens"
   ]
  },
  {
   "cell_type": "code",
   "execution_count": 3,
   "metadata": {},
   "outputs": [],
   "source": [
    "# vocab is the vector that contains all the vocabs from all the files that are from training data sets\n",
    "def file_to_line_based_on_vocab(filename, vocab):\n",
    "    text = load_text_file(filename)\n",
    "    words = clean_text(text)\n",
    "    words = [word for word in words if word in vocab]\n",
    "    return ' '.join(words)\n",
    "\n",
    "def process_all_files_based_on_vocab(dirname, vocab, is_train):\n",
    "    lines = list()\n",
    "\n",
    "    for filename in listdir(dirname):\n",
    "        if (not filename.startswith(\"cv9\")) and (is_train):\n",
    "            path = dirname+'\\\\'+filename\n",
    "            line = file_to_line_based_on_vocab(path, vocab)\n",
    "            lines.append(line)\n",
    "        if (filename.startswith(\"cv9\")) and (not is_train):\n",
    "            path = dirname+'\\\\'+filename\n",
    "            line = file_to_line_based_on_vocab(path, vocab)\n",
    "            lines.append(line)\n",
    "    return lines\n",
    "\n",
    "\n",
    "\n",
    "def create_clean_dataset(vocab, is_train):\n",
    "    neg = process_all_files_based_on_vocab(dirname1, vocab, is_train)\n",
    "    pos = process_all_files_based_on_vocab(dirname2, vocab, is_train)\n",
    "    total = neg + pos\n",
    "\n",
    "    labels = [0 for _ in range(len(neg))] + [1 for _ in range(len(pos))]\n",
    "    return total, labels"
   ]
  },
  {
   "cell_type": "code",
   "execution_count": 4,
   "metadata": {},
   "outputs": [
    {
     "name": "stdout",
     "output_type": "stream",
     "text": [
      "X_train: 1802; X_test: 200\n",
      "y_train: 1802; y_test: 200\n"
     ]
    }
   ],
   "source": [
    "vocab = load_text_file(dirname3+'\\\\'+'vocab_list_bow.txt')\n",
    "vocab = vocab.split()\n",
    "vocab = set(vocab)\n",
    "\n",
    "X_train, y_train = create_clean_dataset(vocab, True)\n",
    "X_test, y_test = create_clean_dataset(vocab, False)\n",
    "\n",
    "y_train = np.array(y_train)\n",
    "y_test = np.array(y_test)\n",
    "print(f'X_train: {len(X_train)}; X_test: {len(X_test)}')\n",
    "print(f'y_train: {len(y_train)}; y_test: {len(y_test)}')"
   ]
  },
  {
   "cell_type": "markdown",
   "metadata": {},
   "source": [
    "### Movie reviews to Bag-of-vectors\n",
    "- Use Keras API to convert reviews to encoded document vectors.\n",
    "- Tokenizer class is convenient and will easily transform documents into encoded vectors"
   ]
  },
  {
   "cell_type": "code",
   "execution_count": 5,
   "metadata": {},
   "outputs": [],
   "source": [
    "def create_tokenizer(lines):\n",
    "    tokenizer = Tokenizer()\n",
    "    tokenizer.fit_on_texts(lines)\n",
    "    return tokenizer"
   ]
  },
  {
   "cell_type": "code",
   "execution_count": 6,
   "metadata": {},
   "outputs": [],
   "source": [
    "# fit the tokenizer to train data \n",
    "tokenizer = create_tokenizer(X_train)\n",
    "\n",
    "# encoding the data\n",
    "Xtrain = tokenizer.texts_to_matrix(X_train, mode='freq')\n",
    "Xtest = tokenizer.texts_to_matrix(X_test, mode='freq')"
   ]
  },
  {
   "cell_type": "code",
   "execution_count": 7,
   "metadata": {},
   "outputs": [
    {
     "name": "stdout",
     "output_type": "stream",
     "text": [
      "(1802, 19605) (200, 19605)\n"
     ]
    }
   ],
   "source": [
    "print(Xtrain.shape, Xtest.shape)"
   ]
  },
  {
   "cell_type": "markdown",
   "metadata": {},
   "source": [
    "### Implementation of MLP models to classify encoded documents as either positive or negative\n",
    "- Sentiment analysis model\n",
    "- Comparing word scoring modes\n",
    "- Making a prediction for the new reviews\n"
   ]
  },
  {
   "cell_type": "markdown",
   "metadata": {},
   "source": [
    "#### Sentiment Analysis model"
   ]
  },
  {
   "cell_type": "code",
   "execution_count": 8,
   "metadata": {},
   "outputs": [],
   "source": [
    "def sam_model(n_words):\n",
    "    model = Sequential()\n",
    "    model.add(Dense(50, input_shape=(n_words,), activation='relu'))\n",
    "    model.add(Dense(1, activation='sigmoid'))\n",
    "    \n",
    "    model.compile(loss='binary_crossentropy', optimizer='adam', metrics=['accuracy'])\n",
    "    model.summary()\n",
    "    return model"
   ]
  },
  {
   "cell_type": "code",
   "execution_count": 9,
   "metadata": {},
   "outputs": [
    {
     "name": "stdout",
     "output_type": "stream",
     "text": [
      "Model: \"sequential\"\n",
      "_________________________________________________________________\n",
      "Layer (type)                 Output Shape              Param #   \n",
      "=================================================================\n",
      "dense (Dense)                (None, 50)                980300    \n",
      "_________________________________________________________________\n",
      "dense_1 (Dense)              (None, 1)                 51        \n",
      "=================================================================\n",
      "Total params: 980,351\n",
      "Trainable params: 980,351\n",
      "Non-trainable params: 0\n",
      "_________________________________________________________________\n",
      "Epoch 1/10\n",
      "57/57 - 11s - loss: 0.6913 - accuracy: 0.5844\n",
      "Epoch 2/10\n",
      "57/57 - 0s - loss: 0.6814 - accuracy: 0.7736\n",
      "Epoch 3/10\n",
      "57/57 - 0s - loss: 0.6651 - accuracy: 0.8368\n",
      "Epoch 4/10\n",
      "57/57 - 0s - loss: 0.6400 - accuracy: 0.8435\n",
      "Epoch 5/10\n",
      "57/57 - 0s - loss: 0.6077 - accuracy: 0.9151\n",
      "Epoch 6/10\n",
      "57/57 - 0s - loss: 0.5697 - accuracy: 0.9351\n",
      "Epoch 7/10\n",
      "57/57 - 0s - loss: 0.5293 - accuracy: 0.9412\n",
      "Epoch 8/10\n",
      "57/57 - 0s - loss: 0.4887 - accuracy: 0.9362\n",
      "Epoch 9/10\n",
      "57/57 - 0s - loss: 0.4473 - accuracy: 0.9506\n",
      "Epoch 10/10\n",
      "57/57 - 0s - loss: 0.4091 - accuracy: 0.9550\n",
      "Test accuracy: 87.00000047683716 %\n"
     ]
    },
    {
     "data": {
      "image/png": "[encoded data removed]",
      "text/plain": [
       "<IPython.core.display.Image object>"
      ]
     },
     "execution_count": 9,
     "metadata": {},
     "output_type": "execute_result"
    }
   ],
   "source": [
    "n_words = Xtest.shape[1]\n",
    "model = sam_model(n_words)\n",
    "model.fit(Xtrain, y_train, epochs=10, verbose=2)\n",
    "loss, accuracy = model.evaluate(Xtest, y_test, verbose=0)\n",
    "print(f'Test accuracy: {accuracy*100} %')\n",
    "plot_model(model, to_file='model.png', show_shapes=True)"
   ]
  },
  {
   "cell_type": "markdown",
   "metadata": {},
   "source": [
    "From the above data:\n",
    "- The model easily fits the training data within the 10 epochs, and acheives 95% acuracy\n",
    "- On test data, it is around 87%"
   ]
  },
  {
   "cell_type": "markdown",
   "metadata": {},
   "source": [
    "## Compare word scoring methods"
   ]
  },
  {
   "cell_type": "markdown",
   "metadata": {},
   "source": [
    "From Tokenizer API, there are ways to represent the encoding\n",
    "- binary - Whether the vocab words present(1) or not (0) in each review\n",
    "- count  - Occurance count for each word (integer)\n",
    "- tfidf  - the words that are common across all documents are penalized\n",
    "- freq  - the number of occurances/total words within the document\n"
   ]
  },
  {
   "cell_type": "markdown",
   "metadata": {},
   "source": [
    "#### Prepare data"
   ]
  },
  {
   "cell_type": "code",
   "execution_count": 10,
   "metadata": {},
   "outputs": [],
   "source": [
    "def prepare_data_based_on_mode(train_docs, test_docs, mode):\n",
    "    tokenizer = Tokenizer()\n",
    "    tokenizer.fit_on_texts(train_docs)\n",
    "    Xtrain = tokenizer.texts_to_matrix(train_docs, mode=mode)\n",
    "    Xtest  = tokenizer.texts_to_matrix(test_docs, mode=mode)\n",
    "    return Xtrain, Xtest"
   ]
  },
  {
   "cell_type": "markdown",
   "metadata": {},
   "source": [
    "#### Evaluate the model based on mode"
   ]
  },
  {
   "cell_type": "code",
   "execution_count": 11,
   "metadata": {},
   "outputs": [],
   "source": [
    "def mode_evaluation(Xtrain, ytrain, Xtest, ytest, n_repeats = 5):\n",
    "    scores = list()\n",
    "    n_words = Xtest.shape[1]\n",
    "    for i in range(n_repeats):\n",
    "        model = sam_model(n_words)\n",
    "        model.fit(Xtrain, ytrain, epochs=10, verbose=0)\n",
    "        _, accuracy = model.evaluate(Xtest, ytest, verbose=0)\n",
    "        scores.append(accuracy)\n",
    "        print(f'{i+1} accuracy: {accuracy}')\n",
    "    return scores"
   ]
  },
  {
   "cell_type": "code",
   "execution_count": 12,
   "metadata": {},
   "outputs": [
    {
     "name": "stdout",
     "output_type": "stream",
     "text": [
      "X_train: 1802; X_test: 200\n",
      "y_train: 1802; y_test: 200\n",
      "Model: \"sequential_1\"\n",
      "_________________________________________________________________\n",
      "Layer (type)                 Output Shape              Param #   \n",
      "=================================================================\n",
      "dense_2 (Dense)              (None, 50)                980300    \n",
      "_________________________________________________________________\n",
      "dense_3 (Dense)              (None, 1)                 51        \n",
      "=================================================================\n",
      "Total params: 980,351\n",
      "Trainable params: 980,351\n",
      "Non-trainable params: 0\n",
      "_________________________________________________________________\n",
      "1 accuracy: 0.9300000071525574\n",
      "Model: \"sequential_2\"\n",
      "_________________________________________________________________\n",
      "Layer (type)                 Output Shape              Param #   \n",
      "=================================================================\n",
      "dense_4 (Dense)              (None, 50)                980300    \n",
      "_________________________________________________________________\n",
      "dense_5 (Dense)              (None, 1)                 51        \n",
      "=================================================================\n",
      "Total params: 980,351\n",
      "Trainable params: 980,351\n",
      "Non-trainable params: 0\n",
      "_________________________________________________________________\n",
      "2 accuracy: 0.925000011920929\n",
      "Model: \"sequential_3\"\n",
      "_________________________________________________________________\n",
      "Layer (type)                 Output Shape              Param #   \n",
      "=================================================================\n",
      "dense_6 (Dense)              (None, 50)                980300    \n",
      "_________________________________________________________________\n",
      "dense_7 (Dense)              (None, 1)                 51        \n",
      "=================================================================\n",
      "Total params: 980,351\n",
      "Trainable params: 980,351\n",
      "Non-trainable params: 0\n",
      "_________________________________________________________________\n",
      "3 accuracy: 0.9300000071525574\n",
      "Model: \"sequential_4\"\n",
      "_________________________________________________________________\n",
      "Layer (type)                 Output Shape              Param #   \n",
      "=================================================================\n",
      "dense_8 (Dense)              (None, 50)                980300    \n",
      "_________________________________________________________________\n",
      "dense_9 (Dense)              (None, 1)                 51        \n",
      "=================================================================\n",
      "Total params: 980,351\n",
      "Trainable params: 980,351\n",
      "Non-trainable params: 0\n",
      "_________________________________________________________________\n",
      "4 accuracy: 0.925000011920929\n",
      "Model: \"sequential_5\"\n",
      "_________________________________________________________________\n",
      "Layer (type)                 Output Shape              Param #   \n",
      "=================================================================\n",
      "dense_10 (Dense)             (None, 50)                980300    \n",
      "_________________________________________________________________\n",
      "dense_11 (Dense)             (None, 1)                 51        \n",
      "=================================================================\n",
      "Total params: 980,351\n",
      "Trainable params: 980,351\n",
      "Non-trainable params: 0\n",
      "_________________________________________________________________\n",
      "5 accuracy: 0.9300000071525574\n",
      "Model: \"sequential_6\"\n",
      "_________________________________________________________________\n",
      "Layer (type)                 Output Shape              Param #   \n",
      "=================================================================\n",
      "dense_12 (Dense)             (None, 50)                980300    \n",
      "_________________________________________________________________\n",
      "dense_13 (Dense)             (None, 1)                 51        \n",
      "=================================================================\n",
      "Total params: 980,351\n",
      "Trainable params: 980,351\n",
      "Non-trainable params: 0\n",
      "_________________________________________________________________\n",
      "1 accuracy: 0.8899999856948853\n",
      "Model: \"sequential_7\"\n",
      "_________________________________________________________________\n",
      "Layer (type)                 Output Shape              Param #   \n",
      "=================================================================\n",
      "dense_14 (Dense)             (None, 50)                980300    \n",
      "_________________________________________________________________\n",
      "dense_15 (Dense)             (None, 1)                 51        \n",
      "=================================================================\n",
      "Total params: 980,351\n",
      "Trainable params: 980,351\n",
      "Non-trainable params: 0\n",
      "_________________________________________________________________\n",
      "2 accuracy: 0.9150000214576721\n",
      "Model: \"sequential_8\"\n",
      "_________________________________________________________________\n",
      "Layer (type)                 Output Shape              Param #   \n",
      "=================================================================\n",
      "dense_16 (Dense)             (None, 50)                980300    \n",
      "_________________________________________________________________\n",
      "dense_17 (Dense)             (None, 1)                 51        \n",
      "=================================================================\n",
      "Total params: 980,351\n",
      "Trainable params: 980,351\n",
      "Non-trainable params: 0\n",
      "_________________________________________________________________\n",
      "3 accuracy: 0.9049999713897705\n",
      "Model: \"sequential_9\"\n",
      "_________________________________________________________________\n",
      "Layer (type)                 Output Shape              Param #   \n",
      "=================================================================\n",
      "dense_18 (Dense)             (None, 50)                980300    \n",
      "_________________________________________________________________\n",
      "dense_19 (Dense)             (None, 1)                 51        \n",
      "=================================================================\n",
      "Total params: 980,351\n",
      "Trainable params: 980,351\n",
      "Non-trainable params: 0\n",
      "_________________________________________________________________\n",
      "4 accuracy: 0.9100000262260437\n",
      "Model: \"sequential_10\"\n",
      "_________________________________________________________________\n",
      "Layer (type)                 Output Shape              Param #   \n",
      "=================================================================\n",
      "dense_20 (Dense)             (None, 50)                980300    \n",
      "_________________________________________________________________\n",
      "dense_21 (Dense)             (None, 1)                 51        \n",
      "=================================================================\n",
      "Total params: 980,351\n",
      "Trainable params: 980,351\n",
      "Non-trainable params: 0\n",
      "_________________________________________________________________\n",
      "5 accuracy: 0.8949999809265137\n",
      "Model: \"sequential_11\"\n",
      "_________________________________________________________________\n",
      "Layer (type)                 Output Shape              Param #   \n",
      "=================================================================\n",
      "dense_22 (Dense)             (None, 50)                980300    \n",
      "_________________________________________________________________\n",
      "dense_23 (Dense)             (None, 1)                 51        \n",
      "=================================================================\n",
      "Total params: 980,351\n",
      "Trainable params: 980,351\n",
      "Non-trainable params: 0\n",
      "_________________________________________________________________\n",
      "1 accuracy: 0.8849999904632568\n",
      "Model: \"sequential_12\"\n",
      "_________________________________________________________________\n",
      "Layer (type)                 Output Shape              Param #   \n",
      "=================================================================\n",
      "dense_24 (Dense)             (None, 50)                980300    \n",
      "_________________________________________________________________\n",
      "dense_25 (Dense)             (None, 1)                 51        \n",
      "=================================================================\n",
      "Total params: 980,351\n",
      "Trainable params: 980,351\n",
      "Non-trainable params: 0\n",
      "_________________________________________________________________\n",
      "2 accuracy: 0.8550000190734863\n",
      "Model: \"sequential_13\"\n",
      "_________________________________________________________________\n",
      "Layer (type)                 Output Shape              Param #   \n",
      "=================================================================\n",
      "dense_26 (Dense)             (None, 50)                980300    \n",
      "_________________________________________________________________\n",
      "dense_27 (Dense)             (None, 1)                 51        \n",
      "=================================================================\n",
      "Total params: 980,351\n",
      "Trainable params: 980,351\n",
      "Non-trainable params: 0\n",
      "_________________________________________________________________\n"
     ]
    },
    {
     "name": "stdout",
     "output_type": "stream",
     "text": [
      "3 accuracy: 0.875\n",
      "Model: \"sequential_14\"\n",
      "_________________________________________________________________\n",
      "Layer (type)                 Output Shape              Param #   \n",
      "=================================================================\n",
      "dense_28 (Dense)             (None, 50)                980300    \n",
      "_________________________________________________________________\n",
      "dense_29 (Dense)             (None, 1)                 51        \n",
      "=================================================================\n",
      "Total params: 980,351\n",
      "Trainable params: 980,351\n",
      "Non-trainable params: 0\n",
      "_________________________________________________________________\n",
      "4 accuracy: 0.8650000095367432\n",
      "Model: \"sequential_15\"\n",
      "_________________________________________________________________\n",
      "Layer (type)                 Output Shape              Param #   \n",
      "=================================================================\n",
      "dense_30 (Dense)             (None, 50)                980300    \n",
      "_________________________________________________________________\n",
      "dense_31 (Dense)             (None, 1)                 51        \n",
      "=================================================================\n",
      "Total params: 980,351\n",
      "Trainable params: 980,351\n",
      "Non-trainable params: 0\n",
      "_________________________________________________________________\n",
      "5 accuracy: 0.8849999904632568\n",
      "Model: \"sequential_16\"\n",
      "_________________________________________________________________\n",
      "Layer (type)                 Output Shape              Param #   \n",
      "=================================================================\n",
      "dense_32 (Dense)             (None, 50)                980300    \n",
      "_________________________________________________________________\n",
      "dense_33 (Dense)             (None, 1)                 51        \n",
      "=================================================================\n",
      "Total params: 980,351\n",
      "Trainable params: 980,351\n",
      "Non-trainable params: 0\n",
      "_________________________________________________________________\n",
      "1 accuracy: 0.8849999904632568\n",
      "Model: \"sequential_17\"\n",
      "_________________________________________________________________\n",
      "Layer (type)                 Output Shape              Param #   \n",
      "=================================================================\n",
      "dense_34 (Dense)             (None, 50)                980300    \n",
      "_________________________________________________________________\n",
      "dense_35 (Dense)             (None, 1)                 51        \n",
      "=================================================================\n",
      "Total params: 980,351\n",
      "Trainable params: 980,351\n",
      "Non-trainable params: 0\n",
      "_________________________________________________________________\n",
      "2 accuracy: 0.8700000047683716\n",
      "Model: \"sequential_18\"\n",
      "_________________________________________________________________\n",
      "Layer (type)                 Output Shape              Param #   \n",
      "=================================================================\n",
      "dense_36 (Dense)             (None, 50)                980300    \n",
      "_________________________________________________________________\n",
      "dense_37 (Dense)             (None, 1)                 51        \n",
      "=================================================================\n",
      "Total params: 980,351\n",
      "Trainable params: 980,351\n",
      "Non-trainable params: 0\n",
      "_________________________________________________________________\n",
      "3 accuracy: 0.8650000095367432\n",
      "Model: \"sequential_19\"\n",
      "_________________________________________________________________\n",
      "Layer (type)                 Output Shape              Param #   \n",
      "=================================================================\n",
      "dense_38 (Dense)             (None, 50)                980300    \n",
      "_________________________________________________________________\n",
      "dense_39 (Dense)             (None, 1)                 51        \n",
      "=================================================================\n",
      "Total params: 980,351\n",
      "Trainable params: 980,351\n",
      "Non-trainable params: 0\n",
      "_________________________________________________________________\n",
      "4 accuracy: 0.8650000095367432\n",
      "Model: \"sequential_20\"\n",
      "_________________________________________________________________\n",
      "Layer (type)                 Output Shape              Param #   \n",
      "=================================================================\n",
      "dense_40 (Dense)             (None, 50)                980300    \n",
      "_________________________________________________________________\n",
      "dense_41 (Dense)             (None, 1)                 51        \n",
      "=================================================================\n",
      "Total params: 980,351\n",
      "Trainable params: 980,351\n",
      "Non-trainable params: 0\n",
      "_________________________________________________________________\n",
      "5 accuracy: 0.8700000047683716\n",
      "   binary  count  tfidf   freq\n",
      "0   0.930  0.890  0.885  0.885\n",
      "1   0.925  0.915  0.855  0.870\n",
      "2   0.930  0.905  0.875  0.865\n",
      "3   0.925  0.910  0.865  0.865\n",
      "4   0.930  0.895  0.885  0.870\n",
      "         binary     count     tfidf      freq\n",
      "count  5.000000  5.000000  5.000000  5.000000\n",
      "mean   0.928000  0.903000  0.873000  0.871000\n",
      "std    0.002739  0.010368  0.013038  0.008216\n",
      "min    0.925000  0.890000  0.855000  0.865000\n",
      "25%    0.925000  0.895000  0.865000  0.865000\n",
      "50%    0.930000  0.905000  0.875000  0.870000\n",
      "75%    0.930000  0.910000  0.885000  0.870000\n",
      "max    0.930000  0.915000  0.885000  0.885000\n"
     ]
    }
   ],
   "source": [
    "vocab = load_text_file(dirname3+'\\\\'+'vocab_list_bow.txt')\n",
    "vocab = vocab.split()\n",
    "vocab = set(vocab)\n",
    "\n",
    "X_train, y_train = create_clean_dataset(vocab, True)\n",
    "X_test, y_test = create_clean_dataset(vocab, False)\n",
    "\n",
    "y_train = np.array(y_train)\n",
    "y_test = np.array(y_test)\n",
    "print(f'X_train: {len(X_train)}; X_test: {len(X_test)}')\n",
    "print(f'y_train: {len(y_train)}; y_test: {len(y_test)}')\n",
    "\n",
    "modes = ['binary', 'count', 'tfidf', 'freq']\n",
    "results = DataFrame()\n",
    "\n",
    "for mode in modes:\n",
    "    Xtrain, Xtest = prepare_data_based_on_mode(X_train, X_test, mode)\n",
    "    results[mode] = mode_evaluation(Xtrain, y_train, Xtest, y_test)\n",
    "print(results)\n",
    "print(results.describe())"
   ]
  },
  {
   "cell_type": "code",
   "execution_count": 13,
   "metadata": {},
   "outputs": [
    {
     "data": {
      "text/plain": [
       "<AxesSubplot:>"
      ]
     },
     "execution_count": 13,
     "metadata": {},
     "output_type": "execute_result"
    },
    {
     "data": {
      "image/png": "[encoded data removed]",
      "text/plain": [
       "<Figure size 432x288 with 1 Axes>"
      ]
     },
     "metadata": {
      "needs_background": "light"
     },
     "output_type": "display_data"
    }
   ],
   "source": [
    "results.boxplot()"
   ]
  },
  {
   "cell_type": "markdown",
   "metadata": {},
   "source": [
    "Binary mode (93%) is providing with more accuracy than the other modes."
   ]
  },
  {
   "cell_type": "code",
   "execution_count": 14,
   "metadata": {},
   "outputs": [],
   "source": [
    "# classify a review as negative or positive\n",
    "def sentiment_prediction(review, vocab, tokenizer, model):\n",
    "    words = clean_text(review)\n",
    "    \n",
    "    # filter by vocab\n",
    "    words = [w for w in words if w in vocab]\n",
    "    \n",
    "    # convert to line\n",
    "    line = ' '.join(words)\n",
    "    \n",
    "    # encode\n",
    "    encoded = tokenizer.texts_to_matrix([line], mode='binary')\n",
    "    \n",
    "    # predict sentiment\n",
    "    y_predict = model.predict(encoded, verbose=0)\n",
    "    \n",
    "    # retrieve predicted percentage and label\n",
    "    percent_pos = y_predict[0,0]\n",
    "    \n",
    "    if round(percent_pos) == 0:\n",
    "        return (1-percent_pos), 'NEGATIVE'\n",
    "    return percent_pos, 'POSITIVE'"
   ]
  },
  {
   "cell_type": "code",
   "execution_count": 16,
   "metadata": {},
   "outputs": [
    {
     "name": "stdout",
     "output_type": "stream",
     "text": [
      "Review: Best movie! It was a great movie, I recommend it.\n",
      "Sentiment: POSITIVE 99.32%\n",
      "Review: bad movie ever! It was not a great movie.\n",
      "Sentiment: NEGATIVE 98.87%\n"
     ]
    }
   ],
   "source": [
    "# test case 1: positive text\n",
    "text = 'Best movie! It was a great movie, I recommend it.'\n",
    "percent, sentiment = sentiment_prediction(text, vocab, tokenizer, model)\n",
    "print(f'Review: {text}\\nSentiment: {sentiment} {round(percent*100, 2)}%' )\n",
    "\n",
    "# test case 2: negative text\n",
    "text = 'bad movie ever! It was not a great movie.'\n",
    "percent, sentiment = sentiment_prediction(text, vocab, tokenizer, model)\n",
    "print(f'Review: {text}\\nSentiment: {sentiment} {round(percent*100, 2)}%' )"
   ]
  },
  {
   "cell_type": "code",
   "execution_count": null,
   "metadata": {},
   "outputs": [],
   "source": []
  }
 ],
 "metadata": {
  "kernelspec": {
   "display_name": "Python 3",
   "language": "python",
   "name": "python3"
  },
  "language_info": {
   "codemirror_mode": {
    "name": "ipython",
    "version": 3
   },
   "file_extension": ".py",
   "mimetype": "text/x-python",
   "name": "python",
   "nbconvert_exporter": "python",
   "pygments_lexer": "ipython3",
   "version": "3.8.5"
  }
 },
 "nbformat": 4,
 "nbformat_minor": 4
}
